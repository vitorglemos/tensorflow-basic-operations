{
 "cells": [
  {
   "attachments": {},
   "cell_type": "markdown",
   "metadata": {},
   "source": [
    "## Tensorflow tutorial using GPU and CPU\n",
    "\n",
    "<img src=\"https://www.researchgate.net/profile/Dong-Hye-Ye/publication/329841804/figure/fig2/AS:706297854955520@1545405939249/a-The-strategy-for-multi-GPU-implementation-of-DLMBIR-on-the-Google-Tensorflow-TF-b.png\">"
   ]
  },
  {
   "cell_type": "code",
   "execution_count": 2,
   "metadata": {
    "collapsed": true
   },
   "outputs": [],
   "source": [
    "import numpy as np\n",
    "import tensorflow as tf\n",
    "import datetime"
   ]
  },
  {
   "cell_type": "code",
   "execution_count": 3,
   "metadata": {
    "collapsed": true
   },
   "outputs": [],
   "source": [
    "log_device_placement = True"
   ]
  },
  {
   "cell_type": "code",
   "execution_count": null,
   "metadata": {},
   "outputs": [],
   "source": [
    "A = np.random.rand(1e4, 1e4).astype('float32')\n",
    "B = np.random.rand(1e4, 1e4).astype('float32')\n",
    "\n",
    "array_a, array_b = list(), list()\n",
    "\n",
    "def matpow(op_num, n=10):\n",
    "    if n < 1:\n",
    "        return op_num\n",
    "    else:\n",
    "        return tf.matmul(op_num, matpow(op_num, n-1))"
   ]
  },
  {
   "cell_type": "markdown",
   "metadata": {},
   "source": [
    "## Single GPU integration"
   ]
  },
  {
   "cell_type": "code",
   "execution_count": 6,
   "metadata": {
    "collapsed": true
   },
   "outputs": [],
   "source": [
    "n = 10\n",
    "\n",
    "with tf.device('/gpu:0'):\n",
    "    array_a.append(matpow(tf.constant(A), n))\n",
    "    array_a.append(matpow(tf.constant(B), n))\n",
    "\n",
    "with tf.device('/cpu:0'):\n",
    "    print(tf.add_n(array_a))\n",
    "\n",
    "with tf.Session(config=tf.ConfigProto(log_device_placement=log_device_placement)) as sess:\n",
    "    sess.run(sum)"
   ]
  },
  {
   "cell_type": "markdown",
   "metadata": {},
   "source": [
    "## Multi GPU integration"
   ]
  },
  {
   "cell_type": "code",
   "execution_count": 7,
   "metadata": {
    "collapsed": true
   },
   "outputs": [],
   "source": [
    "with tf.device('/gpu:0'):\n",
    "    array_b.append(matpow(tf.constant(A), n))\n",
    "\n",
    "with tf.device('/gpu:1'):\n",
    "    array_b.append(matpow(tf.constant(B), n))\n",
    "\n",
    "with tf.device('/cpu:0'):\n",
    "    print(f.add_n(array_b))\n",
    "\n",
    "with tf.Session(config=tf.ConfigProto(log_device_placement=log_device_placement)) as sess:\n",
    "    sess.run(sum)"
   ]
  }
 ],
 "metadata": {
  "kernelspec": {
   "display_name": "Python 3",
   "language": "python",
   "name": "python3"
  },
  "language_info": {
   "codemirror_mode": {
    "name": "ipython",
    "version": 3
   },
   "file_extension": ".py",
   "mimetype": "text/x-python",
   "name": "python",
   "nbconvert_exporter": "python",
   "pygments_lexer": "ipython3",
   "version": "3.8.5"
  }
 },
 "nbformat": 4,
 "nbformat_minor": 1
}
